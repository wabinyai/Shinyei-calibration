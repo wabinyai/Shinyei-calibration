{
 "cells": [
  {
   "cell_type": "code",
   "execution_count": null,
   "metadata": {
    "collapsed": true
   },
   "outputs": [],
   "source": [
    "import math"
   ]
  },
  {
   "cell_type": "code",
   "execution_count": 2,
   "metadata": {
    "collapsed": false
   },
   "outputs": [
    {
     "name": "stdout",
     "output_type": "stream",
     "text": [
      "concentration_ugm3: 38.6095124451\n",
      "EPA AQI:\n",
      "35.7495485602\n"
     ]
    }
   ],
   "source": [
    "concentration_pcf = 120\n",
    "\n",
    "#Convert concentration of M2.5 particles per 0.01 cubic feet to µg/ metre cubed\n",
    "\n",
    "# Assume all particles are spherical, with a density of 1.65E12 µg/m3\n",
    "densitypm25 = 1.65 * math.pow(10, 12)\n",
    "        \n",
    "        # Assume the radius of a particle in the PM10 channel is 2.6 µm\n",
    "#rpm25 = 0.44 * math.pow(10, -6)\n",
    "rpm25 = 2.6 * math.pow(10, -6)        \n",
    "        # Volume of a sphere = 4/3 * pi * radius^3\n",
    "volpm25 = (4/3) * math.pi * (rpm25**3)\n",
    "        \n",
    "        # mass = density * volume\n",
    "masspm25 = densitypm25 * volpm25\n",
    "        \n",
    "        # parts/m3 =  parts/foot3 * 3531.5\n",
    "        # µg/m3 = parts/m3 * mass in µg\n",
    "concentration_ugm3 = concentration_pcf * 3531.5 * masspm25*1\n",
    "\n",
    "print 'concentration_ugm3:',concentration_ugm3\n",
    "#print  concentration_ugm3\n",
    "# Convert concentration of PM10 particles in µg/ metre cubed to the USA \n",
    "# Environment Agency Air Quality Index - AQI\n",
    "cbreakpointspm25 = [ [0.0, 54, 0, 50],\\\n",
    "                        [54.1, 154.4, 51, 100],\\\n",
    "                        [154.5, 254.4, 101, 150],\\\n",
    "                        [254.5, 354.4, 151, 200],\\\n",
    "                        [354.5, 424.4, 201, 300],\\\n",
    "                        [424.5, 504.4, 301, 400],\\\n",
    "                        [504.5, 604.4, 401, 500], ]\n",
    "                        \n",
    "C=concentration_ugm3\n",
    "        \n",
    "if C > 500.4:\n",
    "    aqi=500\n",
    "else:\n",
    "    for breakpoint in cbreakpointspm25:\n",
    "        if breakpoint[0] <= C <= breakpoint[1]:\n",
    "            Clow = breakpoint[0]\n",
    "            Chigh = breakpoint[1]\n",
    "            Ilow = breakpoint[2]\n",
    "            Ihigh = breakpoint[3]\n",
    "            aqi=(((Ihigh-Ilow)/(Chigh-Clow))*(C-Clow))+Ilow\n",
    "print 'EPA AQI:'\n",
    "print aqi\n"
   ]
  },
  {
   "cell_type": "code",
   "execution_count": null,
   "metadata": {
    "collapsed": true
   },
   "outputs": [],
   "source": []
  }
 ],
 "metadata": {
  "kernelspec": {
   "display_name": "Python [default]",
   "language": "python",
   "name": "python2"
  },
  "language_info": {
   "codemirror_mode": {
    "name": "ipython",
    "version": 2
   },
   "file_extension": ".py",
   "mimetype": "text/x-python",
   "name": "python",
   "nbconvert_exporter": "python",
   "pygments_lexer": "ipython2",
   "version": "2.7.12"
  }
 },
 "nbformat": 4,
 "nbformat_minor": 1
}
