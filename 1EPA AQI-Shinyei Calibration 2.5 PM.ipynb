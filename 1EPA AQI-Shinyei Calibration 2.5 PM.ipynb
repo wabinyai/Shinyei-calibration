{
 "cells": [
  {
   "cell_type": "code",
   "execution_count": 1,
   "metadata": {
    "collapsed": true
   },
   "outputs": [],
   "source": [
    "import math"
   ]
  },
  {
   "cell_type": "code",
   "execution_count": 2,
   "metadata": {
    "scrolled": false
   },
   "outputs": [
    {
     "name": "stdout",
     "output_type": "stream",
     "text": [
      "concentration_ugm3: 14.0343908232\n",
      "EPA AQI:\n",
      "55.0680322034\n"
     ]
    }
   ],
   "source": [
    "concentration_pcf = 9000\n",
    "\n",
    "#Convert concentration of M2.5 particles per 0.01 cubic feet to µg/ metre cubed\n",
    "\n",
    "# Assume all particles are spherical, with a density of 1.65E12 µg/m3\n",
    "densitypm25 = 1.65 * math.pow(10, 12)\n",
    "        \n",
    "        # Assume the radius of a particle in the PM2.5 channel is .44 µm\n",
    "rpm25 = 0.44 * math.pow(10, -6)\n",
    "#rpm25 = 2.6 * math.pow(10, -6)        \n",
    "        # Volume of a sphere = 4/3 * pi * radius^3\n",
    "volpm25 = (4/3) * math.pi * (rpm25**3)\n",
    "        \n",
    "        # mass = density * volume\n",
    "masspm25 = densitypm25 * volpm25\n",
    "        \n",
    "        # parts/m3 =  parts/foot3 * 3531.5\n",
    "        # µg/m3 = parts/m3 * mass in µg\n",
    "concentration_ugm3 = concentration_pcf * 3531.5 * masspm25*1\n",
    "\n",
    "print 'concentration_ugm3:',concentration_ugm3\n",
    "#print  concentration_ugm3\n",
    "# Convert concentration of PM2.5 particles in µg/ metre cubed to the USA \n",
    "# Environment Agency Air Quality Index - AQI\n",
    "cbreakpointspm25 = [ [0.0, 12, 0, 50],\\\n",
    "                        [12.1, 35.4, 51, 100],\\\n",
    "                        [35.5, 55.4, 101, 150],\\\n",
    "                        [55.5, 150.4, 151, 200],\\\n",
    "                        [150.5, 250.4, 201, 300],\\\n",
    "                        [250.5, 350.4, 301, 400],\\\n",
    "                        [350.5, 500.4, 401, 500], ]\n",
    "                        \n",
    "C=concentration_ugm3\n",
    "        \n",
    "if C > 500.4:\n",
    "    aqi=500\n",
    "else:\n",
    "    for breakpoint in cbreakpointspm25:\n",
    "        if breakpoint[0] <= C <= breakpoint[1]:\n",
    "            Clow = breakpoint[0]\n",
    "            Chigh = breakpoint[1]\n",
    "            Ilow = breakpoint[2]\n",
    "            Ihigh = breakpoint[3]\n",
    "            aqi=(((Ihigh-Ilow)/(Chigh-Clow))*(C-Clow))+Ilow\n",
    "print 'EPA AQI:'\n",
    "print aqi\n"
   ]
  },
  {
   "cell_type": "code",
   "execution_count": 3,
   "metadata": {},
   "outputs": [
    {
     "name": "stdout",
     "output_type": "stream",
     "text": [
      "AQI_is_MODERATE\n"
     ]
    }
   ],
   "source": [
    "if aqi < 50:\n",
    "    print  'AQI_IS_GOOD'\n",
    "elif aqi < 100:\n",
    "    print 'AQI_is_MODERATE'\n",
    "elif aqi <150:\n",
    "    print 'AQI_is_UNHEALTHY_FOR_SENSITVE_GROUP'\n",
    "elif aqi < 200:\n",
    "    print 'AQI_is_UNHEALTHY'\n",
    "elif aqi < 300:\n",
    "    print 'AQI_is_VERY_UNHEALTHY'\n",
    "else:\n",
    "    print 'AQI_is_HAZARDOUS'\n",
    "    "
   ]
  },
  {
   "cell_type": "code",
   "execution_count": 4,
   "metadata": {},
   "outputs": [
    {
     "name": "stdout",
     "output_type": "stream",
     "text": [
      "Hello WOrld\n"
     ]
    }
   ],
   "source": []
  },
  {
   "cell_type": "code",
   "execution_count": 47,
   "metadata": {},
   "outputs": [],
   "source": [
    "def pcs_to_ug3(concentration_pcf):\n",
    "    # Assume all particles are spherical, with a density of 1.65E12 µg/m3\n",
    "    densitypm25 = 1.65 * math.pow(10, 12)\n",
    "        \n",
    "        # Assume the radius of a particle in the PM2.5 channel is .44 µm\n",
    "    rpm25 = .44 * math.pow(10, -6)\n",
    "        \n",
    "        # Volume of a sphere = 4/3 * pi * radius^3\n",
    "    volpm25 = (4/3) * math.pi * (rpm25**3)\n",
    "        \n",
    "        # mass = density * volume\n",
    "    masspm25 = densitypm25 * volpm25\n",
    "        \n",
    "        # parts/m3 =  parts/foot3 * 3531.5\n",
    "        # µg/m3 = parts/m3 * mass in µg\n",
    "    concentration_ugm3 = concentration_pcf * 3531.5 * masspm25*1\n",
    "    \n",
    "    return concentration_ugm3\n"
   ]
  },
  {
   "cell_type": "code",
   "execution_count": 59,
   "metadata": {
    "collapsed": true
   },
   "outputs": [],
   "source": [
    "concentration_pcf =9210"
   ]
  },
  {
   "cell_type": "code",
   "execution_count": 62,
   "metadata": {},
   "outputs": [
    {
     "data": {
      "text/plain": [
       "13.87845314741267"
      ]
     },
     "execution_count": 62,
     "metadata": {},
     "output_type": "execute_result"
    }
   ],
   "source": [
    "concentration_ugm3"
   ]
  },
  {
   "cell_type": "code",
   "execution_count": 55,
   "metadata": {},
   "outputs": [],
   "source": [
    "def ugm3_to_aqi(concentration_ugm3):\n",
    "    # Convert concentration of PM2.5 particles in µg/ metre cubed to the USA \n",
    "# Environment Agency Air Quality Index - AQI\n",
    "    cbreakpointspm25 = [ [0.0, 12, 0, 50],\\\n",
    "                        [12.1, 35.4, 51, 100],\\\n",
    "                        [35.5, 55.4, 101, 150],\\\n",
    "                        [55.5, 150.4, 151, 200],\\\n",
    "                        [150.5, 250.4, 201, 300],\\\n",
    "                        [250.5, 350.4, 301, 400],\\\n",
    "                        [350.5, 500.4, 401, 500], ]\n",
    "                        \n",
    "    C=concentration_ugm3\n",
    "        \n",
    "    if C > 500.4:\n",
    "        aqi=500\n",
    "    else: \n",
    "        for breakpoint in cbreakpointspm25:\n",
    "            if breakpoint[0] <= C <= breakpoint[1]:\n",
    "                Clow = breakpoint[0]\n",
    "                Chigh = breakpoint[1]\n",
    "                Ilow = breakpoint[2]\n",
    "                Ihigh = breakpoint[3]\n",
    "                aqi=(((Ihigh-Ilow)/(Chigh-Clow))*(C-Clow))+Ilow\n",
    "    return aqi\n"
   ]
  },
  {
   "cell_type": "code",
   "execution_count": 63,
   "metadata": {},
   "outputs": [
    {
     "data": {
      "text/plain": [
       "54.74009460185498"
      ]
     },
     "execution_count": 63,
     "metadata": {},
     "output_type": "execute_result"
    }
   ],
   "source": [
    "aqi"
   ]
  },
  {
   "cell_type": "code",
   "execution_count": 40,
   "metadata": {},
   "outputs": [
    {
     "name": "stdout",
     "output_type": "stream",
     "text": [
      "AQI_IS_GOOD\n"
     ]
    }
   ],
   "source": [
    "if aqi < 50:\n",
    "    print  'AQI_IS_GOOD'\n",
    "elif aqi < 100:\n",
    "    print 'AQI_is_MODERATE'\n",
    "elif aqi <150:\n",
    "    print 'AQI_is_UNHEALTHY_FOR_SENSITVE_GROUP'\n",
    "elif aqi < 200:\n",
    "    print 'AQI_is_UNHEALTHY'\n",
    "elif aqi < 300:\n",
    "    print 'AQI_is_VERY_UNHEALTHY'\n",
    "else:\n",
    "    print 'AQI_is_HAZARDOUS'\n",
    "    "
   ]
  },
  {
   "cell_type": "code",
   "execution_count": null,
   "metadata": {
    "collapsed": true
   },
   "outputs": [],
   "source": []
  }
 ],
 "metadata": {
  "anaconda-cloud": {
   "attach-environment": true,
   "summary": "Calibration-Shinyei",
   "url": "https://anaconda.org/wabinyai/epa-aqi-shinyei-calibration"
  },
  "kernelspec": {
   "display_name": "Python [default]",
   "language": "python",
   "name": "python2"
  },
  "language_info": {
   "codemirror_mode": {
    "name": "ipython",
    "version": 2
   },
   "file_extension": ".py",
   "mimetype": "text/x-python",
   "name": "python",
   "nbconvert_exporter": "python",
   "pygments_lexer": "ipython2",
   "version": "2.7.12"
  }
 },
 "nbformat": 4,
 "nbformat_minor": 1
}
